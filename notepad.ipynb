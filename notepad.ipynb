{
 "cells": [
  {
   "cell_type": "code",
   "execution_count": 1,
   "metadata": {},
   "outputs": [
    {
     "name": "stderr",
     "output_type": "stream",
     "text": [
      "2024-02-17 17:28:44.722 WARNING streamlit.runtime.caching.cache_data_api: No runtime found, using MemoryCacheStorageManager\n",
      "2024-02-17 17:28:44.723 WARNING streamlit.runtime.caching.cache_data_api: No runtime found, using MemoryCacheStorageManager\n",
      "2024-02-17 17:28:44.724 WARNING streamlit.runtime.caching.cache_data_api: No runtime found, using MemoryCacheStorageManager\n",
      "2024-02-17 17:28:44.725 WARNING streamlit.runtime.caching.cache_data_api: No runtime found, using MemoryCacheStorageManager\n"
     ]
    }
   ],
   "source": [
    "import hashlib, os, sqlite3, numpy as np\n",
    "from datetime import datetime, timedelta\n",
    "import pandas as pd\n",
    "from funcoes.func import *"
   ]
  },
  {
   "cell_type": "code",
   "execution_count": 23,
   "metadata": {},
   "outputs": [
    {
     "data": {
      "text/plain": [
       "'2024-02-17T10:01:36.485260'"
      ]
     },
     "execution_count": 23,
     "metadata": {},
     "output_type": "execute_result"
    }
   ],
   "source": [
    "expires_at = datetime.now() + timedelta(hours=0.3)\n",
    "expires = expires_at.isoformat()\n",
    "expires"
   ]
  },
  {
   "cell_type": "code",
   "execution_count": 88,
   "metadata": {},
   "outputs": [
    {
     "name": "stdout",
     "output_type": "stream",
     "text": [
      "sem registro. pode excluir\n"
     ]
    },
    {
     "data": {
      "text/plain": [
       "(10,\n",
       " 50,\n",
       " '14/02/2024 12:00:00',\n",
       " '14/02/2024 13:42:00',\n",
       " None,\n",
       " None,\n",
       " None,\n",
       " None,\n",
       " None,\n",
       " None,\n",
       " None,\n",
       " None)"
      ]
     },
     "execution_count": 88,
     "metadata": {},
     "output_type": "execute_result"
    }
   ],
   "source": [
    "id = 50\n",
    "\n",
    "con = sqlite3.connect('db/db_main_app.db')\n",
    "cur = con.cursor()\n",
    "cur.execute(f\"\"\"\n",
    "        SELECT *, timediff(data_liberacao, data_chegada) as diff2 FROM tb_movimento WHERE id_carga = {id}\n",
    "    \"\"\")\n",
    "res = cur.fetchone()\n",
    "\n",
    "if res[0] != None:\n",
    "    print('sem registro. pode excluir')\n",
    "else:\n",
    "    print(res[0])\n",
    "\n",
    "res"
   ]
  },
  {
   "cell_type": "code",
   "execution_count": 73,
   "metadata": {},
   "outputs": [],
   "source": [
    "def config_df_painel(df):\n",
    "    df = df.to_frame()\n",
    "    print(type(df))\n",
    "    print(df['status'].values[0])\n",
    "    #data_chegada = df['data_chegada'].values[0]\n",
    "    #data_liberacao = df['data_liberacao']\n",
    "    #data_entrada = df['data_entrada']\n",
    "    #data_saida = df['data_saida']\n",
    "\n",
    "    #if data_chegada != '':\n",
    "    #    if data_liberacao == '':\n",
    "    #        res = 'Aguardando liberação'\n",
    "    #    elif data_entrada == '':\n",
    "    #        res = 'Aguardando entrada'\n",
    "    #    elif data_saida == '':\n",
    "    #        res = 'Em descarga'\n",
    "    #    else:\n",
    "    #        res = 'Desconhecido'\n",
    "    #else:\n",
    "    res = 'Desconhecido'\n",
    "\n",
    "    return df"
   ]
  },
  {
   "cell_type": "code",
   "execution_count": 61,
   "metadata": {},
   "outputs": [
    {
     "data": {
      "text/plain": [
       "pandas.core.frame.DataFrame"
      ]
     },
     "execution_count": 61,
     "metadata": {},
     "output_type": "execute_result"
    }
   ],
   "source": [
    "type(df)"
   ]
  },
  {
   "cell_type": "code",
   "execution_count": 136,
   "metadata": {},
   "outputs": [],
   "source": [
    "carga = 52\n",
    "\n",
    "con = sqlite3.connect('db/db_main_app.db')\n",
    "df = pd.read_sql(f\"SELECT *, STRFTIME('%d/%m/%Y %H:%M', data_chegada) as teste FROM tb_movimento where id_carga = {carga}\", con=con)\n",
    "con.close()"
   ]
  },
  {
   "cell_type": "code",
   "execution_count": 137,
   "metadata": {},
   "outputs": [
    {
     "data": {
      "text/html": [
       "<div>\n",
       "<style scoped>\n",
       "    .dataframe tbody tr th:only-of-type {\n",
       "        vertical-align: middle;\n",
       "    }\n",
       "\n",
       "    .dataframe tbody tr th {\n",
       "        vertical-align: top;\n",
       "    }\n",
       "\n",
       "    .dataframe thead th {\n",
       "        text-align: right;\n",
       "    }\n",
       "</style>\n",
       "<table border=\"1\" class=\"dataframe\">\n",
       "  <thead>\n",
       "    <tr style=\"text-align: right;\">\n",
       "      <th></th>\n",
       "      <th>id</th>\n",
       "      <th>id_carga</th>\n",
       "      <th>data_chegada</th>\n",
       "      <th>data_liberacao</th>\n",
       "      <th>data_entrada</th>\n",
       "      <th>data_saida</th>\n",
       "      <th>nota_fiscal</th>\n",
       "      <th>peso_bt</th>\n",
       "      <th>peso_liq</th>\n",
       "      <th>nome_motorista</th>\n",
       "      <th>status</th>\n",
       "      <th>teste</th>\n",
       "    </tr>\n",
       "  </thead>\n",
       "  <tbody>\n",
       "    <tr>\n",
       "      <th>0</th>\n",
       "      <td>11</td>\n",
       "      <td>52</td>\n",
       "      <td>14/02/2024 18:00:00</td>\n",
       "      <td>14/02/2024 18:10:00</td>\n",
       "      <td>None</td>\n",
       "      <td>None</td>\n",
       "      <td>None</td>\n",
       "      <td>None</td>\n",
       "      <td>None</td>\n",
       "      <td>None</td>\n",
       "      <td>None</td>\n",
       "      <td>None</td>\n",
       "    </tr>\n",
       "  </tbody>\n",
       "</table>\n",
       "</div>"
      ],
      "text/plain": [
       "   id  id_carga         data_chegada       data_liberacao data_entrada  \\\n",
       "0  11        52  14/02/2024 18:00:00  14/02/2024 18:10:00         None   \n",
       "\n",
       "  data_saida nota_fiscal peso_bt peso_liq nome_motorista status teste  \n",
       "0       None        None    None     None           None   None  None  "
      ]
     },
     "execution_count": 137,
     "metadata": {},
     "output_type": "execute_result"
    }
   ],
   "source": [
    "df"
   ]
  },
  {
   "cell_type": "code",
   "execution_count": 141,
   "metadata": {},
   "outputs": [
    {
     "name": "stderr",
     "output_type": "stream",
     "text": [
      "C:\\Users\\mathe\\AppData\\Local\\Temp\\ipykernel_304\\2586559424.py:1: UserWarning: Parsing dates in %d/%m/%Y %H:%M:%S format when dayfirst=False (the default) was specified. Pass `dayfirst=True` or specify a format to silence this warning.\n",
      "  df['teste_data_cheg'] = pd.to_datetime(df['data_chegada'])\n",
      "C:\\Users\\mathe\\AppData\\Local\\Temp\\ipykernel_304\\2586559424.py:2: UserWarning: Parsing dates in %d/%m/%Y %H:%M:%S format when dayfirst=False (the default) was specified. Pass `dayfirst=True` or specify a format to silence this warning.\n",
      "  df['teste_data_lib'] = pd.to_datetime(df['data_liberacao'])\n",
      "C:\\Users\\mathe\\AppData\\Local\\Temp\\ipykernel_304\\2586559424.py:3: FutureWarning: Series.view is deprecated and will be removed in a future version. Use ``astype`` as an alternative to change the dtype.\n",
      "  df['dif'] = df['teste_data_lib'].sub(df['teste_data_cheg']).view('int64') // (60*10**9)\n"
     ]
    }
   ],
   "source": [
    "df['teste_data_cheg'] = pd.to_datetime(df['data_chegada'])\n",
    "df['teste_data_lib'] = pd.to_datetime(df['data_liberacao'])\n",
    "df['dif'] = df['teste_data_lib'].sub(df['teste_data_cheg']).view('int64') // (60*10**9)\n",
    "df['status_chegada'] = df['dif'].apply(lambda x: 'Atrasado' if x > 20 else 'Adiantado' if x < -20 else 'No horário')\n",
    "#df['teste_2'] = pd.Timedelta(df['data_chegada'] - df['data_liberacao'], unit='min')"
   ]
  },
  {
   "cell_type": "code",
   "execution_count": 183,
   "metadata": {},
   "outputs": [
    {
     "data": {
      "text/html": [
       "<div>\n",
       "<style scoped>\n",
       "    .dataframe tbody tr th:only-of-type {\n",
       "        vertical-align: middle;\n",
       "    }\n",
       "\n",
       "    .dataframe tbody tr th {\n",
       "        vertical-align: top;\n",
       "    }\n",
       "\n",
       "    .dataframe thead th {\n",
       "        text-align: right;\n",
       "    }\n",
       "</style>\n",
       "<table border=\"1\" class=\"dataframe\">\n",
       "  <thead>\n",
       "    <tr style=\"text-align: right;\">\n",
       "      <th></th>\n",
       "      <th>id_carga</th>\n",
       "      <th>data_chegada</th>\n",
       "      <th>data_liberacao</th>\n",
       "      <th>data_entrada</th>\n",
       "      <th>data_saida</th>\n",
       "      <th>nota_fiscal</th>\n",
       "      <th>peso_bt</th>\n",
       "      <th>peso_liq</th>\n",
       "      <th>nome_motorista</th>\n",
       "      <th>status</th>\n",
       "      <th>...</th>\n",
       "      <th>transportador</th>\n",
       "      <th>data_criacao</th>\n",
       "      <th>data_agendamento</th>\n",
       "      <th>data_entrega</th>\n",
       "      <th>tipo_veiculo</th>\n",
       "      <th>tipo_operacao</th>\n",
       "      <th>fornecedor</th>\n",
       "      <th>status_operacao</th>\n",
       "      <th>dif_chegada</th>\n",
       "      <th>status_chegada</th>\n",
       "    </tr>\n",
       "  </thead>\n",
       "  <tbody>\n",
       "    <tr>\n",
       "      <th>0</th>\n",
       "      <td>43</td>\n",
       "      <td>2024-02-14 12:00:00</td>\n",
       "      <td>NaT</td>\n",
       "      <td>NaT</td>\n",
       "      <td>NaT</td>\n",
       "      <td>None</td>\n",
       "      <td>None</td>\n",
       "      <td>None</td>\n",
       "      <td>None</td>\n",
       "      <td>None</td>\n",
       "      <td>...</td>\n",
       "      <td>Newsea Logistics</td>\n",
       "      <td>2024-02-12 15:58:47</td>\n",
       "      <td>2024-02-12 12:00:00</td>\n",
       "      <td>13/02/2024 02:00:00</td>\n",
       "      <td>Carreta 24T</td>\n",
       "      <td>Saída</td>\n",
       "      <td>Planta_SP_2</td>\n",
       "      <td>Aguardando liberação</td>\n",
       "      <td>-2880</td>\n",
       "      <td>Atrasado</td>\n",
       "    </tr>\n",
       "    <tr>\n",
       "      <th>1</th>\n",
       "      <td>50</td>\n",
       "      <td>2024-02-14 12:00:00</td>\n",
       "      <td>2024-02-14 13:00:00</td>\n",
       "      <td>NaT</td>\n",
       "      <td>NaT</td>\n",
       "      <td>None</td>\n",
       "      <td>None</td>\n",
       "      <td>None</td>\n",
       "      <td>None</td>\n",
       "      <td>None</td>\n",
       "      <td>...</td>\n",
       "      <td>Nippon Express</td>\n",
       "      <td>2024-02-13 11:21:23</td>\n",
       "      <td>2024-02-14 13:00:00</td>\n",
       "      <td></td>\n",
       "      <td>Truck 14T</td>\n",
       "      <td>Entrada</td>\n",
       "      <td>GRD Transportes</td>\n",
       "      <td>Aguardando entrada</td>\n",
       "      <td>60</td>\n",
       "      <td>Adiantado</td>\n",
       "    </tr>\n",
       "    <tr>\n",
       "      <th>2</th>\n",
       "      <td>52</td>\n",
       "      <td>2024-02-14 18:00:00</td>\n",
       "      <td>2024-02-14 18:10:00</td>\n",
       "      <td>NaT</td>\n",
       "      <td>NaT</td>\n",
       "      <td>None</td>\n",
       "      <td>None</td>\n",
       "      <td>None</td>\n",
       "      <td>None</td>\n",
       "      <td>None</td>\n",
       "      <td>...</td>\n",
       "      <td>GRD Transportes</td>\n",
       "      <td>2024-02-14 18:39:02</td>\n",
       "      <td>2024-02-15 12:00:00</td>\n",
       "      <td>19/02/2024 11:00:00</td>\n",
       "      <td>Carreta 24T</td>\n",
       "      <td>Saída</td>\n",
       "      <td>Planta_SP_1</td>\n",
       "      <td>Aguardando entrada</td>\n",
       "      <td>1080</td>\n",
       "      <td>Adiantado</td>\n",
       "    </tr>\n",
       "    <tr>\n",
       "      <th>3</th>\n",
       "      <td>53</td>\n",
       "      <td>2024-02-14 12:00:00</td>\n",
       "      <td>2024-02-14 13:00:00</td>\n",
       "      <td>NaT</td>\n",
       "      <td>NaT</td>\n",
       "      <td>None</td>\n",
       "      <td>None</td>\n",
       "      <td>None</td>\n",
       "      <td>None</td>\n",
       "      <td>None</td>\n",
       "      <td>...</td>\n",
       "      <td>GRD Transportes</td>\n",
       "      <td>2024-02-14 18:39:06</td>\n",
       "      <td>2024-02-14 12:00:00</td>\n",
       "      <td>19/02/2024 11:00:00</td>\n",
       "      <td>Carreta 24T</td>\n",
       "      <td>Saída</td>\n",
       "      <td>Planta_SP_1</td>\n",
       "      <td>Aguardando entrada</td>\n",
       "      <td>0</td>\n",
       "      <td>No horário</td>\n",
       "    </tr>\n",
       "  </tbody>\n",
       "</table>\n",
       "<p>4 rows × 21 columns</p>\n",
       "</div>"
      ],
      "text/plain": [
       "   id_carga        data_chegada      data_liberacao data_entrada data_saida  \\\n",
       "0        43 2024-02-14 12:00:00                 NaT          NaT        NaT   \n",
       "1        50 2024-02-14 12:00:00 2024-02-14 13:00:00          NaT        NaT   \n",
       "2        52 2024-02-14 18:00:00 2024-02-14 18:10:00          NaT        NaT   \n",
       "3        53 2024-02-14 12:00:00 2024-02-14 13:00:00          NaT        NaT   \n",
       "\n",
       "  nota_fiscal peso_bt peso_liq nome_motorista status  ...     transportador  \\\n",
       "0        None    None     None           None   None  ...  Newsea Logistics   \n",
       "1        None    None     None           None   None  ...    Nippon Express   \n",
       "2        None    None     None           None   None  ...   GRD Transportes   \n",
       "3        None    None     None           None   None  ...   GRD Transportes   \n",
       "\n",
       "         data_criacao    data_agendamento         data_entrega tipo_veiculo  \\\n",
       "0 2024-02-12 15:58:47 2024-02-12 12:00:00  13/02/2024 02:00:00  Carreta 24T   \n",
       "1 2024-02-13 11:21:23 2024-02-14 13:00:00                         Truck 14T   \n",
       "2 2024-02-14 18:39:02 2024-02-15 12:00:00  19/02/2024 11:00:00  Carreta 24T   \n",
       "3 2024-02-14 18:39:06 2024-02-14 12:00:00  19/02/2024 11:00:00  Carreta 24T   \n",
       "\n",
       "  tipo_operacao       fornecedor       status_operacao dif_chegada  \\\n",
       "0         Saída      Planta_SP_2  Aguardando liberação       -2880   \n",
       "1       Entrada  GRD Transportes    Aguardando entrada          60   \n",
       "2         Saída      Planta_SP_1    Aguardando entrada        1080   \n",
       "3         Saída      Planta_SP_1    Aguardando entrada           0   \n",
       "\n",
       "   status_chegada  \n",
       "0        Atrasado  \n",
       "1       Adiantado  \n",
       "2       Adiantado  \n",
       "3      No horário  \n",
       "\n",
       "[4 rows x 21 columns]"
      ]
     },
     "execution_count": 183,
     "metadata": {},
     "output_type": "execute_result"
    }
   ],
   "source": [
    "df"
   ]
  },
  {
   "cell_type": "code",
   "execution_count": 2,
   "metadata": {},
   "outputs": [],
   "source": [
    "con = sqlite3.connect('db/db_main_app.db')\n",
    "df = pd.read_sql(\"\"\"\n",
    "            SELECT\n",
    "                *,\n",
    "                IIF(data_chegada IS NULL, \"Aguardando chegada\",\n",
    "                    IIF(data_liberacao IS NULL, \"Aguardando liberação\",\n",
    "                        IIF(data_entrada IS NULL, \"Aguardando entrada\",\n",
    "                            IIF(data_saida IS NULL, \"Em descarga\", \"Desconhecido\")\n",
    "                        )\n",
    "                    )\n",
    "                )\tas status_operacao\n",
    "            FROM\n",
    "                tb_movimento t1\n",
    "            LEFT JOIN\n",
    "                tb_carga t2\n",
    "            ON\n",
    "                t1.id_carga = t2.id\n",
    "            WHERE\n",
    "                data_chegada IS NOT NULL AND data_saida IS NULL\n",
    "        \"\"\", con=con)\n",
    "\n",
    "df = df.drop('id', axis='columns')\n",
    "\n",
    "df['data_chegada'] = pd.to_datetime(df['data_chegada'], dayfirst=True)\n",
    "df['data_liberacao'] = pd.to_datetime(df['data_liberacao'], dayfirst=True)\n",
    "df['data_entrada'] = pd.to_datetime(df['data_entrada'], dayfirst=True)\n",
    "df['data_saida'] = pd.to_datetime(df['data_saida'], dayfirst=True)\n",
    "df['data_agendamento'] = pd.to_datetime(df['data_agendamento'], dayfirst=True)\n",
    "df['data_criacao'] = pd.to_datetime(df['data_criacao'], dayfirst=True)\n",
    "df['data_entrada'] = pd.to_datetime(df['data_entrada'], dayfirst=True)\n",
    "\n",
    "\n",
    "df['dif_chegada'] = df['data_agendamento'].sub(df['data_chegada']).astype('int64') // (60*10**9)\n",
    "df['status_chegada'] = df['dif_chegada'].apply(lambda x: 'Atrasado' if x < -20 else 'Adiantado' if x > 20 else 'No horário')"
   ]
  },
  {
   "cell_type": "code",
   "execution_count": 3,
   "metadata": {},
   "outputs": [
    {
     "data": {
      "text/html": [
       "<div>\n",
       "<style scoped>\n",
       "    .dataframe tbody tr th:only-of-type {\n",
       "        vertical-align: middle;\n",
       "    }\n",
       "\n",
       "    .dataframe tbody tr th {\n",
       "        vertical-align: top;\n",
       "    }\n",
       "\n",
       "    .dataframe thead th {\n",
       "        text-align: right;\n",
       "    }\n",
       "</style>\n",
       "<table border=\"1\" class=\"dataframe\">\n",
       "  <thead>\n",
       "    <tr style=\"text-align: right;\">\n",
       "      <th></th>\n",
       "      <th>id_carga</th>\n",
       "      <th>data_chegada</th>\n",
       "      <th>data_liberacao</th>\n",
       "      <th>data_entrada</th>\n",
       "      <th>data_saida</th>\n",
       "      <th>nota_fiscal</th>\n",
       "      <th>peso_bt</th>\n",
       "      <th>peso_liq</th>\n",
       "      <th>nome_motorista</th>\n",
       "      <th>status</th>\n",
       "      <th>...</th>\n",
       "      <th>transportador</th>\n",
       "      <th>data_criacao</th>\n",
       "      <th>data_agendamento</th>\n",
       "      <th>data_entrega</th>\n",
       "      <th>tipo_veiculo</th>\n",
       "      <th>tipo_operacao</th>\n",
       "      <th>fornecedor</th>\n",
       "      <th>status_operacao</th>\n",
       "      <th>dif_chegada</th>\n",
       "      <th>status_chegada</th>\n",
       "    </tr>\n",
       "  </thead>\n",
       "  <tbody>\n",
       "    <tr>\n",
       "      <th>0</th>\n",
       "      <td>43</td>\n",
       "      <td>2024-02-14 12:00:00</td>\n",
       "      <td>NaT</td>\n",
       "      <td>NaT</td>\n",
       "      <td>NaT</td>\n",
       "      <td>None</td>\n",
       "      <td>None</td>\n",
       "      <td>None</td>\n",
       "      <td>None</td>\n",
       "      <td>None</td>\n",
       "      <td>...</td>\n",
       "      <td>Newsea Logistics</td>\n",
       "      <td>2024-02-12 15:58:47</td>\n",
       "      <td>2024-02-12 12:00:00</td>\n",
       "      <td>13/02/2024 02:00:00</td>\n",
       "      <td>Carreta 24T</td>\n",
       "      <td>Saída</td>\n",
       "      <td>Planta_SP_2</td>\n",
       "      <td>Aguardando liberação</td>\n",
       "      <td>-2880</td>\n",
       "      <td>Atrasado</td>\n",
       "    </tr>\n",
       "    <tr>\n",
       "      <th>1</th>\n",
       "      <td>50</td>\n",
       "      <td>2024-02-14 12:00:00</td>\n",
       "      <td>2024-02-14 13:00:00</td>\n",
       "      <td>NaT</td>\n",
       "      <td>NaT</td>\n",
       "      <td>None</td>\n",
       "      <td>None</td>\n",
       "      <td>None</td>\n",
       "      <td>None</td>\n",
       "      <td>None</td>\n",
       "      <td>...</td>\n",
       "      <td>Nippon Express</td>\n",
       "      <td>2024-02-13 11:21:23</td>\n",
       "      <td>2024-02-14 13:00:00</td>\n",
       "      <td></td>\n",
       "      <td>Truck 14T</td>\n",
       "      <td>Entrada</td>\n",
       "      <td>GRD Transportes</td>\n",
       "      <td>Aguardando entrada</td>\n",
       "      <td>60</td>\n",
       "      <td>Adiantado</td>\n",
       "    </tr>\n",
       "    <tr>\n",
       "      <th>2</th>\n",
       "      <td>52</td>\n",
       "      <td>2024-02-14 18:00:00</td>\n",
       "      <td>2024-02-14 18:10:00</td>\n",
       "      <td>NaT</td>\n",
       "      <td>NaT</td>\n",
       "      <td>None</td>\n",
       "      <td>None</td>\n",
       "      <td>None</td>\n",
       "      <td>None</td>\n",
       "      <td>None</td>\n",
       "      <td>...</td>\n",
       "      <td>GRD Transportes</td>\n",
       "      <td>2024-02-14 18:39:02</td>\n",
       "      <td>2024-02-15 12:00:00</td>\n",
       "      <td>19/02/2024 11:00:00</td>\n",
       "      <td>Carreta 24T</td>\n",
       "      <td>Saída</td>\n",
       "      <td>Planta_SP_1</td>\n",
       "      <td>Aguardando entrada</td>\n",
       "      <td>1080</td>\n",
       "      <td>Adiantado</td>\n",
       "    </tr>\n",
       "    <tr>\n",
       "      <th>3</th>\n",
       "      <td>53</td>\n",
       "      <td>2024-02-14 12:00:00</td>\n",
       "      <td>2024-02-14 13:00:00</td>\n",
       "      <td>NaT</td>\n",
       "      <td>NaT</td>\n",
       "      <td>None</td>\n",
       "      <td>None</td>\n",
       "      <td>None</td>\n",
       "      <td>None</td>\n",
       "      <td>None</td>\n",
       "      <td>...</td>\n",
       "      <td>GRD Transportes</td>\n",
       "      <td>2024-02-14 18:39:06</td>\n",
       "      <td>2024-02-14 12:00:00</td>\n",
       "      <td>19/02/2024 11:00:00</td>\n",
       "      <td>Carreta 24T</td>\n",
       "      <td>Saída</td>\n",
       "      <td>Planta_SP_1</td>\n",
       "      <td>Aguardando entrada</td>\n",
       "      <td>0</td>\n",
       "      <td>No horário</td>\n",
       "    </tr>\n",
       "  </tbody>\n",
       "</table>\n",
       "<p>4 rows × 21 columns</p>\n",
       "</div>"
      ],
      "text/plain": [
       "   id_carga        data_chegada      data_liberacao data_entrada data_saida  \\\n",
       "0        43 2024-02-14 12:00:00                 NaT          NaT        NaT   \n",
       "1        50 2024-02-14 12:00:00 2024-02-14 13:00:00          NaT        NaT   \n",
       "2        52 2024-02-14 18:00:00 2024-02-14 18:10:00          NaT        NaT   \n",
       "3        53 2024-02-14 12:00:00 2024-02-14 13:00:00          NaT        NaT   \n",
       "\n",
       "  nota_fiscal peso_bt peso_liq nome_motorista status  ...     transportador  \\\n",
       "0        None    None     None           None   None  ...  Newsea Logistics   \n",
       "1        None    None     None           None   None  ...    Nippon Express   \n",
       "2        None    None     None           None   None  ...   GRD Transportes   \n",
       "3        None    None     None           None   None  ...   GRD Transportes   \n",
       "\n",
       "         data_criacao    data_agendamento         data_entrega tipo_veiculo  \\\n",
       "0 2024-02-12 15:58:47 2024-02-12 12:00:00  13/02/2024 02:00:00  Carreta 24T   \n",
       "1 2024-02-13 11:21:23 2024-02-14 13:00:00                         Truck 14T   \n",
       "2 2024-02-14 18:39:02 2024-02-15 12:00:00  19/02/2024 11:00:00  Carreta 24T   \n",
       "3 2024-02-14 18:39:06 2024-02-14 12:00:00  19/02/2024 11:00:00  Carreta 24T   \n",
       "\n",
       "  tipo_operacao       fornecedor       status_operacao dif_chegada  \\\n",
       "0         Saída      Planta_SP_2  Aguardando liberação       -2880   \n",
       "1       Entrada  GRD Transportes    Aguardando entrada          60   \n",
       "2         Saída      Planta_SP_1    Aguardando entrada        1080   \n",
       "3         Saída      Planta_SP_1    Aguardando entrada           0   \n",
       "\n",
       "   status_chegada  \n",
       "0        Atrasado  \n",
       "1       Adiantado  \n",
       "2       Adiantado  \n",
       "3      No horário  \n",
       "\n",
       "[4 rows x 21 columns]"
      ]
     },
     "execution_count": 3,
     "metadata": {},
     "output_type": "execute_result"
    }
   ],
   "source": [
    "df"
   ]
  },
  {
   "cell_type": "code",
   "execution_count": 10,
   "metadata": {},
   "outputs": [
    {
     "ename": "JSONDecodeError",
     "evalue": "Expecting value: line 1 column 1 (char 0)",
     "output_type": "error",
     "traceback": [
      "\u001b[1;31m---------------------------------------------------------------------------\u001b[0m",
      "\u001b[1;31mJSONDecodeError\u001b[0m                           Traceback (most recent call last)",
      "File \u001b[1;32mc:\\Users\\mathe\\AppData\\Local\\Programs\\Python\\Python312\\Lib\\site-packages\\requests\\models.py:971\u001b[0m, in \u001b[0;36mResponse.json\u001b[1;34m(self, **kwargs)\u001b[0m\n\u001b[0;32m    970\u001b[0m \u001b[38;5;28;01mtry\u001b[39;00m:\n\u001b[1;32m--> 971\u001b[0m     \u001b[38;5;28;01mreturn\u001b[39;00m \u001b[43mcomplexjson\u001b[49m\u001b[38;5;241;43m.\u001b[39;49m\u001b[43mloads\u001b[49m\u001b[43m(\u001b[49m\u001b[38;5;28;43mself\u001b[39;49m\u001b[38;5;241;43m.\u001b[39;49m\u001b[43mtext\u001b[49m\u001b[43m,\u001b[49m\u001b[43m \u001b[49m\u001b[38;5;241;43m*\u001b[39;49m\u001b[38;5;241;43m*\u001b[39;49m\u001b[43mkwargs\u001b[49m\u001b[43m)\u001b[49m\n\u001b[0;32m    972\u001b[0m \u001b[38;5;28;01mexcept\u001b[39;00m JSONDecodeError \u001b[38;5;28;01mas\u001b[39;00m e:\n\u001b[0;32m    973\u001b[0m     \u001b[38;5;66;03m# Catch JSON-related errors and raise as requests.JSONDecodeError\u001b[39;00m\n\u001b[0;32m    974\u001b[0m     \u001b[38;5;66;03m# This aliases json.JSONDecodeError and simplejson.JSONDecodeError\u001b[39;00m\n",
      "File \u001b[1;32mc:\\Users\\mathe\\AppData\\Local\\Programs\\Python\\Python312\\Lib\\json\\__init__.py:346\u001b[0m, in \u001b[0;36mloads\u001b[1;34m(s, cls, object_hook, parse_float, parse_int, parse_constant, object_pairs_hook, **kw)\u001b[0m\n\u001b[0;32m    343\u001b[0m \u001b[38;5;28;01mif\u001b[39;00m (\u001b[38;5;28mcls\u001b[39m \u001b[38;5;129;01mis\u001b[39;00m \u001b[38;5;28;01mNone\u001b[39;00m \u001b[38;5;129;01mand\u001b[39;00m object_hook \u001b[38;5;129;01mis\u001b[39;00m \u001b[38;5;28;01mNone\u001b[39;00m \u001b[38;5;129;01mand\u001b[39;00m\n\u001b[0;32m    344\u001b[0m         parse_int \u001b[38;5;129;01mis\u001b[39;00m \u001b[38;5;28;01mNone\u001b[39;00m \u001b[38;5;129;01mand\u001b[39;00m parse_float \u001b[38;5;129;01mis\u001b[39;00m \u001b[38;5;28;01mNone\u001b[39;00m \u001b[38;5;129;01mand\u001b[39;00m\n\u001b[0;32m    345\u001b[0m         parse_constant \u001b[38;5;129;01mis\u001b[39;00m \u001b[38;5;28;01mNone\u001b[39;00m \u001b[38;5;129;01mand\u001b[39;00m object_pairs_hook \u001b[38;5;129;01mis\u001b[39;00m \u001b[38;5;28;01mNone\u001b[39;00m \u001b[38;5;129;01mand\u001b[39;00m \u001b[38;5;129;01mnot\u001b[39;00m kw):\n\u001b[1;32m--> 346\u001b[0m     \u001b[38;5;28;01mreturn\u001b[39;00m \u001b[43m_default_decoder\u001b[49m\u001b[38;5;241;43m.\u001b[39;49m\u001b[43mdecode\u001b[49m\u001b[43m(\u001b[49m\u001b[43ms\u001b[49m\u001b[43m)\u001b[49m\n\u001b[0;32m    347\u001b[0m \u001b[38;5;28;01mif\u001b[39;00m \u001b[38;5;28mcls\u001b[39m \u001b[38;5;129;01mis\u001b[39;00m \u001b[38;5;28;01mNone\u001b[39;00m:\n",
      "File \u001b[1;32mc:\\Users\\mathe\\AppData\\Local\\Programs\\Python\\Python312\\Lib\\json\\decoder.py:337\u001b[0m, in \u001b[0;36mJSONDecoder.decode\u001b[1;34m(self, s, _w)\u001b[0m\n\u001b[0;32m    333\u001b[0m \u001b[38;5;250m\u001b[39m\u001b[38;5;124;03m\"\"\"Return the Python representation of ``s`` (a ``str`` instance\u001b[39;00m\n\u001b[0;32m    334\u001b[0m \u001b[38;5;124;03mcontaining a JSON document).\u001b[39;00m\n\u001b[0;32m    335\u001b[0m \n\u001b[0;32m    336\u001b[0m \u001b[38;5;124;03m\"\"\"\u001b[39;00m\n\u001b[1;32m--> 337\u001b[0m obj, end \u001b[38;5;241m=\u001b[39m \u001b[38;5;28;43mself\u001b[39;49m\u001b[38;5;241;43m.\u001b[39;49m\u001b[43mraw_decode\u001b[49m\u001b[43m(\u001b[49m\u001b[43ms\u001b[49m\u001b[43m,\u001b[49m\u001b[43m \u001b[49m\u001b[43midx\u001b[49m\u001b[38;5;241;43m=\u001b[39;49m\u001b[43m_w\u001b[49m\u001b[43m(\u001b[49m\u001b[43ms\u001b[49m\u001b[43m,\u001b[49m\u001b[43m \u001b[49m\u001b[38;5;241;43m0\u001b[39;49m\u001b[43m)\u001b[49m\u001b[38;5;241;43m.\u001b[39;49m\u001b[43mend\u001b[49m\u001b[43m(\u001b[49m\u001b[43m)\u001b[49m\u001b[43m)\u001b[49m\n\u001b[0;32m    338\u001b[0m end \u001b[38;5;241m=\u001b[39m _w(s, end)\u001b[38;5;241m.\u001b[39mend()\n",
      "File \u001b[1;32mc:\\Users\\mathe\\AppData\\Local\\Programs\\Python\\Python312\\Lib\\json\\decoder.py:355\u001b[0m, in \u001b[0;36mJSONDecoder.raw_decode\u001b[1;34m(self, s, idx)\u001b[0m\n\u001b[0;32m    354\u001b[0m \u001b[38;5;28;01mexcept\u001b[39;00m \u001b[38;5;167;01mStopIteration\u001b[39;00m \u001b[38;5;28;01mas\u001b[39;00m err:\n\u001b[1;32m--> 355\u001b[0m     \u001b[38;5;28;01mraise\u001b[39;00m JSONDecodeError(\u001b[38;5;124m\"\u001b[39m\u001b[38;5;124mExpecting value\u001b[39m\u001b[38;5;124m\"\u001b[39m, s, err\u001b[38;5;241m.\u001b[39mvalue) \u001b[38;5;28;01mfrom\u001b[39;00m \u001b[38;5;28;01mNone\u001b[39;00m\n\u001b[0;32m    356\u001b[0m \u001b[38;5;28;01mreturn\u001b[39;00m obj, end\n",
      "\u001b[1;31mJSONDecodeError\u001b[0m: Expecting value: line 1 column 1 (char 0)",
      "\nDuring handling of the above exception, another exception occurred:\n",
      "\u001b[1;31mJSONDecodeError\u001b[0m                           Traceback (most recent call last)",
      "Cell \u001b[1;32mIn[10], line 7\u001b[0m\n\u001b[0;32m      3\u001b[0m url \u001b[38;5;241m=\u001b[39m \u001b[38;5;124m\"\u001b[39m\u001b[38;5;124mhttps://api.tomtom.com/routing/matrix/2?key=bAvp2Uy2frLuz9BunjnGmwDErsRLPZcB\u001b[39m\u001b[38;5;124m\"\u001b[39m\n\u001b[0;32m      5\u001b[0m response \u001b[38;5;241m=\u001b[39m requests\u001b[38;5;241m.\u001b[39mpost(url)\n\u001b[1;32m----> 7\u001b[0m \u001b[38;5;28mprint\u001b[39m(\u001b[43mresponse\u001b[49m\u001b[38;5;241;43m.\u001b[39;49m\u001b[43mjson\u001b[49m\u001b[43m(\u001b[49m\u001b[43m)\u001b[49m)\n",
      "File \u001b[1;32mc:\\Users\\mathe\\AppData\\Local\\Programs\\Python\\Python312\\Lib\\site-packages\\requests\\models.py:975\u001b[0m, in \u001b[0;36mResponse.json\u001b[1;34m(self, **kwargs)\u001b[0m\n\u001b[0;32m    971\u001b[0m     \u001b[38;5;28;01mreturn\u001b[39;00m complexjson\u001b[38;5;241m.\u001b[39mloads(\u001b[38;5;28mself\u001b[39m\u001b[38;5;241m.\u001b[39mtext, \u001b[38;5;241m*\u001b[39m\u001b[38;5;241m*\u001b[39mkwargs)\n\u001b[0;32m    972\u001b[0m \u001b[38;5;28;01mexcept\u001b[39;00m JSONDecodeError \u001b[38;5;28;01mas\u001b[39;00m e:\n\u001b[0;32m    973\u001b[0m     \u001b[38;5;66;03m# Catch JSON-related errors and raise as requests.JSONDecodeError\u001b[39;00m\n\u001b[0;32m    974\u001b[0m     \u001b[38;5;66;03m# This aliases json.JSONDecodeError and simplejson.JSONDecodeError\u001b[39;00m\n\u001b[1;32m--> 975\u001b[0m     \u001b[38;5;28;01mraise\u001b[39;00m RequestsJSONDecodeError(e\u001b[38;5;241m.\u001b[39mmsg, e\u001b[38;5;241m.\u001b[39mdoc, e\u001b[38;5;241m.\u001b[39mpos)\n",
      "\u001b[1;31mJSONDecodeError\u001b[0m: Expecting value: line 1 column 1 (char 0)"
     ]
    }
   ],
   "source": [
    "import requests\n",
    "\n",
    "url = \"https://api.tomtom.com/routing/matrix/2?key=bAvp2Uy2frLuz9BunjnGmwDErsRLPZcB\"\n",
    "\n",
    "response = requests.post(url)\n",
    "\n",
    "print(response.json())"
   ]
  },
  {
   "cell_type": "code",
   "execution_count": 4,
   "metadata": {},
   "outputs": [],
   "source": [
    "df = pd.read_sql(\"\"\"\n",
    "            SELECT\n",
    "                *,\n",
    "                IIF(data_chegada IS NULL, \"Aguardando chegada\",\n",
    "                    IIF(data_liberacao IS NULL, \"Aguardando liberação\",\n",
    "                        IIF(data_entrada IS NULL, \"Aguardando entrada\",\n",
    "                            IIF(data_saida IS NULL, \"Em descarga\", \"Desconhecido\")\n",
    "                        )\n",
    "                    )\n",
    "                )\tas status_operacao\n",
    "            FROM\n",
    "                tb_movimento t1\n",
    "            LEFT JOIN\n",
    "                tb_carga t2\n",
    "            ON\n",
    "                t1.id_carga = t2.id\n",
    "            WHERE\n",
    "               data_saida IS NULL\n",
    "        \"\"\", con=con)\n",
    "\n",
    "df = df.drop('id', axis='columns')\n",
    "\n",
    "df['data_chegada'] = pd.to_datetime(df['data_chegada'], dayfirst=True)\n",
    "df['data_liberacao'] = pd.to_datetime(df['data_liberacao'], dayfirst=True)\n",
    "df['data_entrada'] = pd.to_datetime(df['data_entrada'], dayfirst=True)\n",
    "df['data_saida'] = pd.to_datetime(df['data_saida'], dayfirst=True)\n",
    "df['data_agendamento'] = pd.to_datetime(df['data_agendamento'], dayfirst=True)\n",
    "df['data_criacao'] = pd.to_datetime(df['data_criacao'], dayfirst=True)\n",
    "df['data_entrada'] = pd.to_datetime(df['data_entrada'], dayfirst=True)\n",
    "\n",
    "\n",
    "df['dif_chegada'] = df['data_agendamento'].sub(df['data_chegada']).astype('int64') // (60*10**9)\n",
    "df['status_chegada'] = df['dif_chegada'].apply(lambda x: 'Atrasado' if x < -20 else 'Adiantado' if x > 20 else 'No horário')"
   ]
  },
  {
   "cell_type": "code",
   "execution_count": 5,
   "metadata": {},
   "outputs": [
    {
     "data": {
      "text/html": [
       "<div>\n",
       "<style scoped>\n",
       "    .dataframe tbody tr th:only-of-type {\n",
       "        vertical-align: middle;\n",
       "    }\n",
       "\n",
       "    .dataframe tbody tr th {\n",
       "        vertical-align: top;\n",
       "    }\n",
       "\n",
       "    .dataframe thead th {\n",
       "        text-align: right;\n",
       "    }\n",
       "</style>\n",
       "<table border=\"1\" class=\"dataframe\">\n",
       "  <thead>\n",
       "    <tr style=\"text-align: right;\">\n",
       "      <th></th>\n",
       "      <th>id_carga</th>\n",
       "      <th>data_chegada</th>\n",
       "      <th>data_liberacao</th>\n",
       "      <th>data_entrada</th>\n",
       "      <th>data_saida</th>\n",
       "      <th>nota_fiscal</th>\n",
       "      <th>peso_bt</th>\n",
       "      <th>peso_liq</th>\n",
       "      <th>nome_motorista</th>\n",
       "      <th>status</th>\n",
       "      <th>...</th>\n",
       "      <th>transportador</th>\n",
       "      <th>data_criacao</th>\n",
       "      <th>data_agendamento</th>\n",
       "      <th>data_entrega</th>\n",
       "      <th>tipo_veiculo</th>\n",
       "      <th>tipo_operacao</th>\n",
       "      <th>fornecedor</th>\n",
       "      <th>status_operacao</th>\n",
       "      <th>dif_chegada</th>\n",
       "      <th>status_chegada</th>\n",
       "    </tr>\n",
       "  </thead>\n",
       "  <tbody>\n",
       "    <tr>\n",
       "      <th>0</th>\n",
       "      <td>43</td>\n",
       "      <td>2024-02-14 12:00:00</td>\n",
       "      <td>NaT</td>\n",
       "      <td>NaT</td>\n",
       "      <td>NaT</td>\n",
       "      <td>None</td>\n",
       "      <td>None</td>\n",
       "      <td>None</td>\n",
       "      <td>None</td>\n",
       "      <td>None</td>\n",
       "      <td>...</td>\n",
       "      <td>Newsea Logistics</td>\n",
       "      <td>2024-02-12 15:58:47</td>\n",
       "      <td>2024-02-12 12:00:00</td>\n",
       "      <td>13/02/2024 02:00:00</td>\n",
       "      <td>Carreta 24T</td>\n",
       "      <td>Saída</td>\n",
       "      <td>Planta_SP_2</td>\n",
       "      <td>Aguardando liberação</td>\n",
       "      <td>-2880</td>\n",
       "      <td>Atrasado</td>\n",
       "    </tr>\n",
       "    <tr>\n",
       "      <th>1</th>\n",
       "      <td>47</td>\n",
       "      <td>NaT</td>\n",
       "      <td>NaT</td>\n",
       "      <td>NaT</td>\n",
       "      <td>NaT</td>\n",
       "      <td>None</td>\n",
       "      <td>None</td>\n",
       "      <td>None</td>\n",
       "      <td>None</td>\n",
       "      <td>None</td>\n",
       "      <td>...</td>\n",
       "      <td>Trans Brasil</td>\n",
       "      <td>2024-02-12 21:07:13</td>\n",
       "      <td>2024-02-14 08:00:00</td>\n",
       "      <td></td>\n",
       "      <td>Carreta 24T</td>\n",
       "      <td>Entrada</td>\n",
       "      <td>Newsea Logistics</td>\n",
       "      <td>Aguardando chegada</td>\n",
       "      <td>-153722868</td>\n",
       "      <td>Atrasado</td>\n",
       "    </tr>\n",
       "    <tr>\n",
       "      <th>2</th>\n",
       "      <td>50</td>\n",
       "      <td>2024-02-14 12:00:00</td>\n",
       "      <td>2024-02-14 13:00:00</td>\n",
       "      <td>NaT</td>\n",
       "      <td>NaT</td>\n",
       "      <td>None</td>\n",
       "      <td>None</td>\n",
       "      <td>None</td>\n",
       "      <td>None</td>\n",
       "      <td>None</td>\n",
       "      <td>...</td>\n",
       "      <td>Nippon Express</td>\n",
       "      <td>2024-02-13 11:21:23</td>\n",
       "      <td>2024-02-14 13:00:00</td>\n",
       "      <td></td>\n",
       "      <td>Truck 14T</td>\n",
       "      <td>Entrada</td>\n",
       "      <td>GRD Transportes</td>\n",
       "      <td>Aguardando entrada</td>\n",
       "      <td>60</td>\n",
       "      <td>Adiantado</td>\n",
       "    </tr>\n",
       "    <tr>\n",
       "      <th>3</th>\n",
       "      <td>52</td>\n",
       "      <td>2024-02-14 18:00:00</td>\n",
       "      <td>2024-02-14 18:10:00</td>\n",
       "      <td>NaT</td>\n",
       "      <td>NaT</td>\n",
       "      <td>None</td>\n",
       "      <td>None</td>\n",
       "      <td>None</td>\n",
       "      <td>None</td>\n",
       "      <td>None</td>\n",
       "      <td>...</td>\n",
       "      <td>GRD Transportes</td>\n",
       "      <td>2024-02-14 18:39:02</td>\n",
       "      <td>2024-02-15 12:00:00</td>\n",
       "      <td>19/02/2024 11:00:00</td>\n",
       "      <td>Carreta 24T</td>\n",
       "      <td>Saída</td>\n",
       "      <td>Planta_SP_1</td>\n",
       "      <td>Aguardando entrada</td>\n",
       "      <td>1080</td>\n",
       "      <td>Adiantado</td>\n",
       "    </tr>\n",
       "    <tr>\n",
       "      <th>4</th>\n",
       "      <td>53</td>\n",
       "      <td>2024-02-14 12:00:00</td>\n",
       "      <td>2024-02-14 13:00:00</td>\n",
       "      <td>NaT</td>\n",
       "      <td>NaT</td>\n",
       "      <td>None</td>\n",
       "      <td>None</td>\n",
       "      <td>None</td>\n",
       "      <td>None</td>\n",
       "      <td>None</td>\n",
       "      <td>...</td>\n",
       "      <td>GRD Transportes</td>\n",
       "      <td>2024-02-14 18:39:06</td>\n",
       "      <td>2024-02-14 12:00:00</td>\n",
       "      <td>19/02/2024 11:00:00</td>\n",
       "      <td>Carreta 24T</td>\n",
       "      <td>Saída</td>\n",
       "      <td>Planta_SP_1</td>\n",
       "      <td>Aguardando entrada</td>\n",
       "      <td>0</td>\n",
       "      <td>No horário</td>\n",
       "    </tr>\n",
       "    <tr>\n",
       "      <th>5</th>\n",
       "      <td>54</td>\n",
       "      <td>NaT</td>\n",
       "      <td>NaT</td>\n",
       "      <td>NaT</td>\n",
       "      <td>NaT</td>\n",
       "      <td>None</td>\n",
       "      <td>None</td>\n",
       "      <td>None</td>\n",
       "      <td>None</td>\n",
       "      <td>None</td>\n",
       "      <td>...</td>\n",
       "      <td>Trans Brasil</td>\n",
       "      <td>2024-02-16 19:16:51</td>\n",
       "      <td>2024-02-17 09:00:00</td>\n",
       "      <td></td>\n",
       "      <td>Carreta 24T</td>\n",
       "      <td>Entrada</td>\n",
       "      <td>Trans Brasil</td>\n",
       "      <td>Aguardando chegada</td>\n",
       "      <td>-153722868</td>\n",
       "      <td>Atrasado</td>\n",
       "    </tr>\n",
       "    <tr>\n",
       "      <th>6</th>\n",
       "      <td>55</td>\n",
       "      <td>NaT</td>\n",
       "      <td>NaT</td>\n",
       "      <td>NaT</td>\n",
       "      <td>NaT</td>\n",
       "      <td>None</td>\n",
       "      <td>None</td>\n",
       "      <td>None</td>\n",
       "      <td>None</td>\n",
       "      <td>None</td>\n",
       "      <td>...</td>\n",
       "      <td>WFC do Brasil Transportes</td>\n",
       "      <td>2024-02-17 11:12:44</td>\n",
       "      <td>2024-02-13 02:00:00</td>\n",
       "      <td>17/02/2024 06:00:00</td>\n",
       "      <td>Truck 14T</td>\n",
       "      <td>Saída</td>\n",
       "      <td>Planta_SP_1</td>\n",
       "      <td>Aguardando chegada</td>\n",
       "      <td>-153722868</td>\n",
       "      <td>Atrasado</td>\n",
       "    </tr>\n",
       "    <tr>\n",
       "      <th>7</th>\n",
       "      <td>56</td>\n",
       "      <td>NaT</td>\n",
       "      <td>NaT</td>\n",
       "      <td>NaT</td>\n",
       "      <td>NaT</td>\n",
       "      <td>None</td>\n",
       "      <td>None</td>\n",
       "      <td>None</td>\n",
       "      <td>None</td>\n",
       "      <td>None</td>\n",
       "      <td>...</td>\n",
       "      <td>WFC do Brasil Transportes</td>\n",
       "      <td>2024-02-17 11:12:52</td>\n",
       "      <td>2024-02-13 02:00:00</td>\n",
       "      <td>15/02/2024 06:00:00</td>\n",
       "      <td>Truck 14T</td>\n",
       "      <td>Saída</td>\n",
       "      <td>Planta_RJ_1</td>\n",
       "      <td>Aguardando chegada</td>\n",
       "      <td>-153722868</td>\n",
       "      <td>Atrasado</td>\n",
       "    </tr>\n",
       "    <tr>\n",
       "      <th>8</th>\n",
       "      <td>57</td>\n",
       "      <td>NaT</td>\n",
       "      <td>NaT</td>\n",
       "      <td>NaT</td>\n",
       "      <td>NaT</td>\n",
       "      <td>None</td>\n",
       "      <td>None</td>\n",
       "      <td>None</td>\n",
       "      <td>None</td>\n",
       "      <td>None</td>\n",
       "      <td>...</td>\n",
       "      <td>GRD Transportes</td>\n",
       "      <td>2024-02-17 11:13:09</td>\n",
       "      <td>2024-02-11 00:00:00</td>\n",
       "      <td>14/02/2024 06:00:00</td>\n",
       "      <td>Carreta 24T</td>\n",
       "      <td>Saída</td>\n",
       "      <td>Planta_SP_1</td>\n",
       "      <td>Aguardando chegada</td>\n",
       "      <td>-153722868</td>\n",
       "      <td>Atrasado</td>\n",
       "    </tr>\n",
       "    <tr>\n",
       "      <th>9</th>\n",
       "      <td>58</td>\n",
       "      <td>NaT</td>\n",
       "      <td>NaT</td>\n",
       "      <td>NaT</td>\n",
       "      <td>NaT</td>\n",
       "      <td>None</td>\n",
       "      <td>None</td>\n",
       "      <td>None</td>\n",
       "      <td>None</td>\n",
       "      <td>None</td>\n",
       "      <td>...</td>\n",
       "      <td>GRD Transportes</td>\n",
       "      <td>2024-02-17 11:13:16</td>\n",
       "      <td>2024-02-14 06:00:00</td>\n",
       "      <td></td>\n",
       "      <td>Carreta 24T</td>\n",
       "      <td>Entrada</td>\n",
       "      <td>Newsea Logistics</td>\n",
       "      <td>Aguardando chegada</td>\n",
       "      <td>-153722868</td>\n",
       "      <td>Atrasado</td>\n",
       "    </tr>\n",
       "    <tr>\n",
       "      <th>10</th>\n",
       "      <td>59</td>\n",
       "      <td>NaT</td>\n",
       "      <td>NaT</td>\n",
       "      <td>NaT</td>\n",
       "      <td>NaT</td>\n",
       "      <td>None</td>\n",
       "      <td>None</td>\n",
       "      <td>None</td>\n",
       "      <td>None</td>\n",
       "      <td>None</td>\n",
       "      <td>...</td>\n",
       "      <td>Nippon Express</td>\n",
       "      <td>2024-02-17 11:13:25</td>\n",
       "      <td>2024-02-19 06:00:00</td>\n",
       "      <td></td>\n",
       "      <td>Carreta 24T</td>\n",
       "      <td>Entrada</td>\n",
       "      <td>Nippon Express</td>\n",
       "      <td>Aguardando chegada</td>\n",
       "      <td>-153722868</td>\n",
       "      <td>Atrasado</td>\n",
       "    </tr>\n",
       "  </tbody>\n",
       "</table>\n",
       "<p>11 rows × 21 columns</p>\n",
       "</div>"
      ],
      "text/plain": [
       "    id_carga        data_chegada      data_liberacao data_entrada data_saida  \\\n",
       "0         43 2024-02-14 12:00:00                 NaT          NaT        NaT   \n",
       "1         47                 NaT                 NaT          NaT        NaT   \n",
       "2         50 2024-02-14 12:00:00 2024-02-14 13:00:00          NaT        NaT   \n",
       "3         52 2024-02-14 18:00:00 2024-02-14 18:10:00          NaT        NaT   \n",
       "4         53 2024-02-14 12:00:00 2024-02-14 13:00:00          NaT        NaT   \n",
       "5         54                 NaT                 NaT          NaT        NaT   \n",
       "6         55                 NaT                 NaT          NaT        NaT   \n",
       "7         56                 NaT                 NaT          NaT        NaT   \n",
       "8         57                 NaT                 NaT          NaT        NaT   \n",
       "9         58                 NaT                 NaT          NaT        NaT   \n",
       "10        59                 NaT                 NaT          NaT        NaT   \n",
       "\n",
       "   nota_fiscal peso_bt peso_liq nome_motorista status  ...  \\\n",
       "0         None    None     None           None   None  ...   \n",
       "1         None    None     None           None   None  ...   \n",
       "2         None    None     None           None   None  ...   \n",
       "3         None    None     None           None   None  ...   \n",
       "4         None    None     None           None   None  ...   \n",
       "5         None    None     None           None   None  ...   \n",
       "6         None    None     None           None   None  ...   \n",
       "7         None    None     None           None   None  ...   \n",
       "8         None    None     None           None   None  ...   \n",
       "9         None    None     None           None   None  ...   \n",
       "10        None    None     None           None   None  ...   \n",
       "\n",
       "                transportador        data_criacao    data_agendamento  \\\n",
       "0            Newsea Logistics 2024-02-12 15:58:47 2024-02-12 12:00:00   \n",
       "1                Trans Brasil 2024-02-12 21:07:13 2024-02-14 08:00:00   \n",
       "2              Nippon Express 2024-02-13 11:21:23 2024-02-14 13:00:00   \n",
       "3             GRD Transportes 2024-02-14 18:39:02 2024-02-15 12:00:00   \n",
       "4             GRD Transportes 2024-02-14 18:39:06 2024-02-14 12:00:00   \n",
       "5                Trans Brasil 2024-02-16 19:16:51 2024-02-17 09:00:00   \n",
       "6   WFC do Brasil Transportes 2024-02-17 11:12:44 2024-02-13 02:00:00   \n",
       "7   WFC do Brasil Transportes 2024-02-17 11:12:52 2024-02-13 02:00:00   \n",
       "8             GRD Transportes 2024-02-17 11:13:09 2024-02-11 00:00:00   \n",
       "9             GRD Transportes 2024-02-17 11:13:16 2024-02-14 06:00:00   \n",
       "10             Nippon Express 2024-02-17 11:13:25 2024-02-19 06:00:00   \n",
       "\n",
       "           data_entrega tipo_veiculo tipo_operacao        fornecedor  \\\n",
       "0   13/02/2024 02:00:00  Carreta 24T         Saída       Planta_SP_2   \n",
       "1                        Carreta 24T       Entrada  Newsea Logistics   \n",
       "2                          Truck 14T       Entrada   GRD Transportes   \n",
       "3   19/02/2024 11:00:00  Carreta 24T         Saída       Planta_SP_1   \n",
       "4   19/02/2024 11:00:00  Carreta 24T         Saída       Planta_SP_1   \n",
       "5                        Carreta 24T       Entrada      Trans Brasil   \n",
       "6   17/02/2024 06:00:00    Truck 14T         Saída       Planta_SP_1   \n",
       "7   15/02/2024 06:00:00    Truck 14T         Saída       Planta_RJ_1   \n",
       "8   14/02/2024 06:00:00  Carreta 24T         Saída       Planta_SP_1   \n",
       "9                        Carreta 24T       Entrada  Newsea Logistics   \n",
       "10                       Carreta 24T       Entrada    Nippon Express   \n",
       "\n",
       "         status_operacao dif_chegada  status_chegada  \n",
       "0   Aguardando liberação       -2880        Atrasado  \n",
       "1     Aguardando chegada  -153722868        Atrasado  \n",
       "2     Aguardando entrada          60       Adiantado  \n",
       "3     Aguardando entrada        1080       Adiantado  \n",
       "4     Aguardando entrada           0      No horário  \n",
       "5     Aguardando chegada  -153722868        Atrasado  \n",
       "6     Aguardando chegada  -153722868        Atrasado  \n",
       "7     Aguardando chegada  -153722868        Atrasado  \n",
       "8     Aguardando chegada  -153722868        Atrasado  \n",
       "9     Aguardando chegada  -153722868        Atrasado  \n",
       "10    Aguardando chegada  -153722868        Atrasado  \n",
       "\n",
       "[11 rows x 21 columns]"
      ]
     },
     "execution_count": 5,
     "metadata": {},
     "output_type": "execute_result"
    }
   ],
   "source": [
    "df"
   ]
  },
  {
   "cell_type": "code",
   "execution_count": 40,
   "metadata": {},
   "outputs": [
    {
     "name": "stdout",
     "output_type": "stream",
     "text": [
      "[51, 44, 46, 49, 50]\n"
     ]
    },
    {
     "data": {
      "text/plain": [
       "['', 51, 44, 46, 49, 50]"
      ]
     },
     "execution_count": 40,
     "metadata": {},
     "output_type": "execute_result"
    }
   ],
   "source": [
    "options = list(df.id_carga.unique())\n",
    "print(options)\n",
    "options.insert(0,'')\n",
    "#a = np.insert(options, 1, ' ')\n",
    "options"
   ]
  },
  {
   "cell_type": "code",
   "execution_count": 44,
   "metadata": {},
   "outputs": [
    {
     "data": {
      "text/plain": [
       "0    14/02/202\n",
       "1    14/02/202\n",
       "2    14/02/202\n",
       "3    14/02/202\n",
       "4    14/02/202\n",
       "0    14/02/202\n",
       "Name: data_chegada, dtype: object"
      ]
     },
     "execution_count": 44,
     "metadata": {},
     "output_type": "execute_result"
    }
   ],
   "source": [
    "df.data_chegada.str[:10]"
   ]
  },
  {
   "cell_type": "code",
   "execution_count": 9,
   "metadata": {},
   "outputs": [
    {
     "data": {
      "text/plain": [
       "{'nome': 'matheus', 'sobrenome': 'leite'}"
      ]
     },
     "execution_count": 9,
     "metadata": {},
     "output_type": "execute_result"
    }
   ],
   "source": [
    "dic = {}\n",
    "\n",
    "dic['nome'] = 'dimas'\n",
    "dic['sobrenome'] = 'leite'\n",
    "\n",
    "dic"
   ]
  },
  {
   "cell_type": "markdown",
   "metadata": {},
   "source": [
    "# Cadastrar novo usuário"
   ]
  },
  {
   "cell_type": "code",
   "execution_count": 185,
   "metadata": {},
   "outputs": [],
   "source": [
    "def hash_senha(senha, salt):\n",
    "    senha_salt = senha + salt\n",
    "    hashed_senha = hashlib.sha256(senha_salt.encode('utf-8')).hexdigest()\n",
    "    return hashed_senha\n",
    "\n",
    "def cadastrar_usuario(nome,usuario,senha,salt):\n",
    "\n",
    "    # Conexão com o banco de dados\n",
    "    print('conecta db - checa se usuario ja existe')\n",
    "    con = sqlite3.connect('db/db_main_app.db')\n",
    "    cur = con.cursor()\n",
    "    cur.execute('select usuario from tb_usuarios where usuario = ?', (usuario,))\n",
    "    res = cur.fetchone()\n",
    "    cur.close()\n",
    "\n",
    "    if res is not None:\n",
    "        return 'usuário já existe!'\n",
    "    else:\n",
    "        print('se usuario nao existe, cria um novo')\n",
    "\n",
    "        print('Chama hash func')\n",
    "        senha_hashed = hash_senha(senha,str(salt))\n",
    "        data_inclusao = datetime.now()\n",
    "        data_inclusao = data_inclusao.strftime('%d/%m/%Y %H:%M:%S')\n",
    "\n",
    "        cur = con.cursor()\n",
    "        cur.execute('insert into tb_usuarios (nome, usuario, senha, salt, logado, data_inclusao) values (?, ?, ?, ?, ?, ?)', (nome, usuario, senha_hashed, str(salt), 0, data_inclusao))\n",
    "        con.commit()\n",
    "        con.close()\n",
    "        return 'usuario cadastrado com sucesso!'"
   ]
  },
  {
   "cell_type": "code",
   "execution_count": 186,
   "metadata": {},
   "outputs": [
    {
     "name": "stdout",
     "output_type": "stream",
     "text": [
      "conecta db - checa se usuario ja existe\n",
      "se usuario nao existe, cria um novo\n",
      "Chama hash func\n"
     ]
    },
    {
     "data": {
      "text/plain": [
       "'usuario cadastrado com sucesso!'"
      ]
     },
     "execution_count": 186,
     "metadata": {},
     "output_type": "execute_result"
    }
   ],
   "source": [
    "nome = 'Dimas Junior'\n",
    "usuario = 'djunior'\n",
    "senha = 'dimas123'\n",
    "salt = os.urandom(32)\n",
    "\n",
    "cadastrar_usuario(nome,usuario,senha,salt)"
   ]
  },
  {
   "cell_type": "code",
   "execution_count": 184,
   "metadata": {},
   "outputs": [
    {
     "name": "stdout",
     "output_type": "stream",
     "text": [
      "Usuário ou senha inválidos\n"
     ]
    }
   ],
   "source": [
    "usuario = 'dimas'\n",
    "senha = 'dimas123'\n",
    "\n",
    "# Conexão com o banco de dados\n",
    "con = sqlite3.connect('db/db_main_app.db')\n",
    "cur = con.cursor()\n",
    "cur.execute('select senha, salt from tb_usuarios where usuario = ?', (usuario,))\n",
    "res = cur.fetchone()\n",
    "cur.close()\n",
    "con.close()\n",
    "\n",
    "if not res:\n",
    "    print('Usuário ou senha inválidos')\n",
    "else:\n",
    "    senha_db = res[0]\n",
    "    salt_db = res[1]\n",
    "\n",
    "    senha_salt = senha + salt_db\n",
    "    hashed_senha = hashlib.sha256(senha_salt.encode('utf-8')).hexdigest()\n",
    "\n",
    "    if hashed_senha == senha_db:\n",
    "        print('Conectado')\n",
    "    else:\n",
    "        print('Usuário ou senha inválidos')\n"
   ]
  },
  {
   "cell_type": "code",
   "execution_count": null,
   "metadata": {},
   "outputs": [],
   "source": [
    "con = sqlite3.connect('db/db_main_app.db')\n",
    "cur = con.cursor()\n",
    "cur.execute('select nome_fantasia from tb_cliente')\n",
    "res = cur.fetchall()\n",
    "cur.close()\n",
    "res\n",
    "\n",
    "lst = []\n",
    "\n",
    "i = 1\n",
    "for cliente in res:\n",
    "    lst.append(cliente[0])"
   ]
  },
  {
   "cell_type": "code",
   "execution_count": null,
   "metadata": {},
   "outputs": [],
   "source": [
    "res[1][0]"
   ]
  },
  {
   "cell_type": "code",
   "execution_count": null,
   "metadata": {},
   "outputs": [],
   "source": [
    "lst"
   ]
  },
  {
   "cell_type": "code",
   "execution_count": null,
   "metadata": {},
   "outputs": [],
   "source": [
    "nome = 'Sarah Weber'\n",
    "usuario = 'sweber'\n",
    "senha = '1234'\n",
    "salt = os.urandom(32)\n",
    "\n",
    "cadastrar_usuario(nome,usuario,senha,str(salt))"
   ]
  },
  {
   "cell_type": "code",
   "execution_count": null,
   "metadata": {},
   "outputs": [],
   "source": [
    "import yaml, os, pandas as pd"
   ]
  },
  {
   "cell_type": "code",
   "execution_count": null,
   "metadata": {},
   "outputs": [],
   "source": [
    "with open('config/tipo_operacao.yml', 'r') as file:\n",
    "    dados = yaml.safe_load_all(file)\n",
    "    lst = []\n",
    "    for d in dados:\n",
    "        lst.append(d)\n",
    "\n",
    "lst_ = []\n",
    "\n",
    "for i in lst[0]:\n",
    "    x = i.encode('latin1')\n",
    "    x = x.decode()\n",
    "    lst_.append(x)"
   ]
  },
  {
   "cell_type": "code",
   "execution_count": null,
   "metadata": {},
   "outputs": [],
   "source": [
    "lst_"
   ]
  },
  {
   "cell_type": "code",
   "execution_count": null,
   "metadata": {},
   "outputs": [],
   "source": [
    "d[0]"
   ]
  },
  {
   "cell_type": "code",
   "execution_count": null,
   "metadata": {},
   "outputs": [],
   "source": [
    "lst[0][1]"
   ]
  },
  {
   "cell_type": "code",
   "execution_count": null,
   "metadata": {},
   "outputs": [],
   "source": [
    "s = 'DevoluÃ§Ã£o'\n",
    "\n",
    "x = s.encode('latin1')\n",
    "x.decode()"
   ]
  },
  {
   "cell_type": "code",
   "execution_count": null,
   "metadata": {},
   "outputs": [],
   "source": [
    "veiculos = {}\n",
    "\n",
    "with open('config/dados_veiculos.yml', 'r') as file:\n",
    "    dados = yaml.safe_load_all(file)\n",
    "\n",
    "    i = 1\n",
    "    for d in dados:\n",
    "        print(d)\n",
    "        veiculos[i] = d['id'], d['tipo'], d['capacidade'], d['eixo']\n",
    "        i+=1"
   ]
  },
  {
   "cell_type": "code",
   "execution_count": null,
   "metadata": {},
   "outputs": [],
   "source": [
    "pd.DataFrame.from_dict(veiculos, orient='index', columns=['ID','Tipo','Capacidade (ton)','Eixo'])"
   ]
  },
  {
   "cell_type": "code",
   "execution_count": null,
   "metadata": {},
   "outputs": [],
   "source": [
    "veiculos[1]['tipo']"
   ]
  },
  {
   "cell_type": "code",
   "execution_count": null,
   "metadata": {},
   "outputs": [],
   "source": [
    "now = datetime.now()\n",
    "\n",
    "data = now.strftime('%d/%m/%Y')"
   ]
  },
  {
   "cell_type": "code",
   "execution_count": null,
   "metadata": {},
   "outputs": [],
   "source": [
    "data"
   ]
  },
  {
   "cell_type": "code",
   "execution_count": null,
   "metadata": {},
   "outputs": [],
   "source": [
    "con = sqlite3.connect('db/db_main_app.db')\n",
    "cur = con.cursor()\n",
    "cur.execute('select * from tb_carga')\n",
    "res = cur.fetchall()\n",
    "cur.close()\n",
    "con.close()"
   ]
  },
  {
   "cell_type": "code",
   "execution_count": null,
   "metadata": {},
   "outputs": [],
   "source": []
  },
  {
   "cell_type": "code",
   "execution_count": null,
   "metadata": {},
   "outputs": [],
   "source": [
    "con = sqlite3.connect('db/db_main_app.db')\n",
    "df = pd.read_sql(\"SELECT * FROM tb_carga\", con=con)\n",
    "con.close()"
   ]
  },
  {
   "cell_type": "code",
   "execution_count": null,
   "metadata": {},
   "outputs": [],
   "source": [
    "df"
   ]
  },
  {
   "cell_type": "code",
   "execution_count": null,
   "metadata": {},
   "outputs": [],
   "source": [
    "carga = 39\n",
    "result = df.loc[df.id == carga]\n",
    "res_cliente = result['cliente'].values[0]\n",
    "res_fornecedor = result['fornecedor'].values[0]\n",
    "res_transportador = result['transportador'].values[0]"
   ]
  },
  {
   "cell_type": "code",
   "execution_count": null,
   "metadata": {},
   "outputs": [],
   "source": [
    "print(result.shape[0])"
   ]
  },
  {
   "cell_type": "code",
   "execution_count": null,
   "metadata": {},
   "outputs": [],
   "source": [
    "res_transportador"
   ]
  },
  {
   "cell_type": "code",
   "execution_count": null,
   "metadata": {},
   "outputs": [],
   "source": [
    "result.iat[0,1]"
   ]
  },
  {
   "cell_type": "code",
   "execution_count": null,
   "metadata": {},
   "outputs": [],
   "source": [
    "res_cliente"
   ]
  },
  {
   "cell_type": "code",
   "execution_count": 2,
   "metadata": {},
   "outputs": [
    {
     "data": {
      "text/plain": [
       "'21/02/2024 18:23:59'"
      ]
     },
     "execution_count": 2,
     "metadata": {},
     "output_type": "execute_result"
    }
   ],
   "source": [
    "from datetime import datetime\n",
    "\n",
    "datetime.now().strftime('%d/%m/%Y %H:%M:%S')"
   ]
  },
  {
   "cell_type": "code",
   "execution_count": null,
   "metadata": {},
   "outputs": [],
   "source": []
  }
 ],
 "metadata": {
  "kernelspec": {
   "display_name": "Python 3",
   "language": "python",
   "name": "python3"
  },
  "language_info": {
   "codemirror_mode": {
    "name": "ipython",
    "version": 3
   },
   "file_extension": ".py",
   "mimetype": "text/x-python",
   "name": "python",
   "nbconvert_exporter": "python",
   "pygments_lexer": "ipython3",
   "version": "3.12.2"
  }
 },
 "nbformat": 4,
 "nbformat_minor": 2
}
